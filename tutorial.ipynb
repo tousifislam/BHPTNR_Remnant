{
 "cells": [
  {
   "cell_type": "markdown",
   "id": "de19b6c2-e87e-4b13-b6d9-c02858524f08",
   "metadata": {},
   "source": [
    "## Example Use of $\\texttt{BHPTNR_Remnant}$ package\n",
    "\n",
    "to compute remant properties of binary black hole mergers from GPR fits built on waveforms generated using numerical relativity informed black hole perturbation theory based surrogate models\n",
    "\n",
    "for mass ratios $2.5 <= q <= 1000$\n",
    "\n",
    "Contact : Tousif Islam [tislam@umassd.edu]  [tousifislam24@gmail.com] "
   ]
  },
  {
   "cell_type": "markdown",
   "id": "9edd7dc7-e574-413a-bd07-ade453428ed9",
   "metadata": {},
   "source": [
    "### Import the package"
   ]
  },
  {
   "cell_type": "code",
   "execution_count": 1,
   "id": "30f724dd-0a33-4ccc-b0da-61c8b0f7235d",
   "metadata": {},
   "outputs": [],
   "source": [
    "import sys\n",
    "path_to_BHPT_Remnant = \"/home/UMDAR.UMASSD.EDU/tislam/work/final_repos/BHPTNR_Remnant\"\n",
    "sys.path.append(path_to_BHPT_Remnant)"
   ]
  },
  {
   "cell_type": "code",
   "execution_count": 2,
   "id": "988b4062-d3a9-4f24-b7d1-007a9a559579",
   "metadata": {},
   "outputs": [],
   "source": [
    "import bhptnrsur_remnant\n",
    "from bhptnrsur_remnant.remnant import BHPTNRSurRemnant\n",
    "from bhptnrsur_remnant.analytical_fits import BHPTAnalyticalFits"
   ]
  },
  {
   "cell_type": "markdown",
   "id": "ed90ff5d-b98d-45da-9957-60d5be125ddc",
   "metadata": {},
   "source": [
    "## 1. GPR Fits"
   ]
  },
  {
   "cell_type": "markdown",
   "id": "bcd8210e-6f3d-4490-887b-860881b6fa0a",
   "metadata": {},
   "source": [
    "### 1.1 Import GPR fits"
   ]
  },
  {
   "cell_type": "code",
   "execution_count": 3,
   "id": "9296de45-df6b-42cf-85a5-af6757b5ae84",
   "metadata": {},
   "outputs": [],
   "source": [
    "fits = BHPTNRSurRemnant()"
   ]
  },
  {
   "cell_type": "markdown",
   "id": "f0635584-0de6-4442-bffd-5838ff6efd0e",
   "metadata": {},
   "source": [
    "### 1.2 Evaluate fits"
   ]
  },
  {
   "cell_type": "code",
   "execution_count": 4,
   "id": "66316222-1dd6-4e30-bb5e-d71d5cb94554",
   "metadata": {},
   "outputs": [
    {
     "data": {
      "text/plain": [
       "(0.9815569572394977,\n",
       " -3.432433287564596e-05,\n",
       " 0.5626445976599284,\n",
       " 0.00037539188862462103,\n",
       " 0.5626445976599284,\n",
       " 0.00037539188862462103,\n",
       " 0.5626445976599284,\n",
       " 0.00037539188862462103)"
      ]
     },
     "execution_count": 4,
     "metadata": {},
     "output_type": "execute_result"
    }
   ],
   "source": [
    "# evaluate the fits at mass ratio q=5\n",
    "fits.evaluate_fit(5)"
   ]
  },
  {
   "cell_type": "markdown",
   "id": "f8bae4b9-3f07-4fc9-a5ba-93f7befd72cd",
   "metadata": {},
   "source": [
    "## 2. Analytical Fits"
   ]
  },
  {
   "cell_type": "markdown",
   "id": "6096c87b-68af-4001-b37c-3078842f2c08",
   "metadata": {},
   "source": [
    "### 2.1 Import fits"
   ]
  },
  {
   "cell_type": "code",
   "execution_count": 5,
   "id": "606a3172-e8fc-4f83-bbea-76c069ca5455",
   "metadata": {},
   "outputs": [],
   "source": [
    "fit_obj = BHPTAnalyticalFits(q=15, a=0)"
   ]
  },
  {
   "cell_type": "markdown",
   "id": "b14ac70e-859e-417b-bc3f-72127126ef89",
   "metadata": {},
   "source": [
    "### 2.2 Evaluate fits"
   ]
  },
  {
   "cell_type": "code",
   "execution_count": 6,
   "id": "e5c0eea0-bac1-4b4e-908f-d0348dd9bf8e",
   "metadata": {},
   "outputs": [
    {
     "name": "stdout",
     "output_type": "stream",
     "text": [
      "0.00019555555555555553\n"
     ]
    }
   ],
   "source": [
    "# evaluate kick velocity form Sundararajan, Khanna & Hughes\n",
    "vf = fit_obj.SKH_kick_fit()\n",
    "print(vf)"
   ]
  },
  {
   "cell_type": "code",
   "execution_count": 7,
   "id": "4b1568d7-fb58-4397-8c88-c86b0917eaf1",
   "metadata": {},
   "outputs": [
    {
     "name": "stdout",
     "output_type": "stream",
     "text": [
      "0.00016746377287741205\n"
     ]
    }
   ],
   "source": [
    "# evaluate kick velocity form Sundararajan, Khanna & Hughes\n",
    "# corrected for the small mass ratio\n",
    "vf = fit_obj.SKH_kick_fit_small_q_corrected()\n",
    "print(vf)"
   ]
  },
  {
   "cell_type": "code",
   "execution_count": 8,
   "id": "3248b3d7-d276-4497-aa49-e8d9e58092e4",
   "metadata": {},
   "outputs": [
    {
     "name": "stdout",
     "output_type": "stream",
     "text": [
      "0.0001511111111111111\n"
     ]
    }
   ],
   "source": [
    "# evaluate kick velocity form Islam, Field & Khanna\n",
    "vf = fit_obj.IFK_kick_fit()\n",
    "print(vf)"
   ]
  },
  {
   "cell_type": "code",
   "execution_count": null,
   "id": "6135d07a-d466-4a16-8ed6-890a49dd9751",
   "metadata": {},
   "outputs": [],
   "source": []
  }
 ],
 "metadata": {
  "kernelspec": {
   "display_name": "remnant",
   "language": "python",
   "name": "remnant"
  },
  "language_info": {
   "codemirror_mode": {
    "name": "ipython",
    "version": 3
   },
   "file_extension": ".py",
   "mimetype": "text/x-python",
   "name": "python",
   "nbconvert_exporter": "python",
   "pygments_lexer": "ipython3",
   "version": "3.8.8"
  }
 },
 "nbformat": 4,
 "nbformat_minor": 5
}
