{
 "cells": [
  {
   "cell_type": "markdown",
   "id": "de19b6c2-e87e-4b13-b6d9-c02858524f08",
   "metadata": {},
   "source": [
    "## Example Use of $\\texttt{BHPTNR_Remnant}$ package\n",
    "\n",
    "to compute remant properties of binary black hole mergers from GPR fits built on waveforms generated using numerical relativity informed black hole perturbation theory based surrogate models\n",
    "\n",
    "Contact : Tousif Islam [tislam@umassd.edu]  [tousifislam24@gmail.com] "
   ]
  },
  {
   "cell_type": "markdown",
   "id": "9edd7dc7-e574-413a-bd07-ade453428ed9",
   "metadata": {},
   "source": [
    "### Import the package"
   ]
  },
  {
   "cell_type": "code",
   "execution_count": 1,
   "id": "30f724dd-0a33-4ccc-b0da-61c8b0f7235d",
   "metadata": {},
   "outputs": [],
   "source": [
    "import sys\n",
    "path_to_BHPT_Remnant = \"/home/UMDAR.UMASSD.EDU/tislam/work/final_repos/BHPTNR_Remnant\"\n",
    "sys.path.append(path_to_BHPT_Remnant)"
   ]
  },
  {
   "cell_type": "code",
   "execution_count": 2,
   "id": "988b4062-d3a9-4f24-b7d1-007a9a559579",
   "metadata": {},
   "outputs": [],
   "source": [
    "import bhptnrsur_remnant\n",
    "from bhptnrsur_remnant.remnant import BHPTNRSurRemnant"
   ]
  },
  {
   "cell_type": "markdown",
   "id": "bcd8210e-6f3d-4490-887b-860881b6fa0a",
   "metadata": {},
   "source": [
    "### Import fits"
   ]
  },
  {
   "cell_type": "code",
   "execution_count": 3,
   "id": "9296de45-df6b-42cf-85a5-af6757b5ae84",
   "metadata": {},
   "outputs": [],
   "source": [
    "fits = BHPTNRSurRemnant()"
   ]
  },
  {
   "cell_type": "markdown",
   "id": "f0635584-0de6-4442-bffd-5838ff6efd0e",
   "metadata": {},
   "source": [
    "### Evaluate Fits"
   ]
  },
  {
   "cell_type": "code",
   "execution_count": 4,
   "id": "66316222-1dd6-4e30-bb5e-d71d5cb94554",
   "metadata": {},
   "outputs": [
    {
     "name": "stderr",
     "output_type": "stream",
     "text": [
      "/home/UMDAR.UMASSD.EDU/tislam/anaconda3/envs/remnant/lib/python3.8/site-packages/sklearn/gaussian_process/_gpr.py:375: UserWarning: Predicted variances smaller than 0. Setting those variances to 0.\n",
      "  warnings.warn(\"Predicted variances smaller than 0. \"\n"
     ]
    },
    {
     "data": {
      "text/plain": [
       "(0.9815569572394977,\n",
       " -3.432433287564596e-05,\n",
       " 0.5626445976599284,\n",
       " -0.00037539188862467654,\n",
       " 0.0018026558168384148,\n",
       " 8.04241232486326e-09,\n",
       " 0.0011343703544029026,\n",
       " 0.0)"
      ]
     },
     "execution_count": 4,
     "metadata": {},
     "output_type": "execute_result"
    }
   ],
   "source": [
    "# evaluate the fits at mass ratio q=5\n",
    "fits.evaluate_fit(5)"
   ]
  },
  {
   "cell_type": "code",
   "execution_count": null,
   "id": "a5e7fc86-de7c-43b0-8aae-7375c8171153",
   "metadata": {},
   "outputs": [],
   "source": []
  }
 ],
 "metadata": {
  "kernelspec": {
   "display_name": "remnant",
   "language": "python",
   "name": "remnant"
  },
  "language_info": {
   "codemirror_mode": {
    "name": "ipython",
    "version": 3
   },
   "file_extension": ".py",
   "mimetype": "text/x-python",
   "name": "python",
   "nbconvert_exporter": "python",
   "pygments_lexer": "ipython3",
   "version": "3.8.8"
  }
 },
 "nbformat": 4,
 "nbformat_minor": 5
}
